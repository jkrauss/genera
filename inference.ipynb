{
 "cells": [
  {
   "cell_type": "code",
   "execution_count": 1,
   "metadata": {},
   "outputs": [],
   "source": [
    "import pandas as pd\n",
    "import catboost as cb\n"
   ]
  },
  {
   "cell_type": "code",
   "execution_count": 35,
   "metadata": {},
   "outputs": [],
   "source": [
    "\n",
    "\n",
    "def fill_dataframe(df: pd.DataFrame) -> pd.DataFrame:\n",
    "    \"\"\"\n",
    "    Fill missing values in dataframe with inferred values\n",
    "    \"\"\"\n",
    "\n",
    "    # columns that have missing values are inference_columns\n",
    "    inference_columns = list()\n",
    "    \n",
    "    # columns that are complete are used as features\n",
    "    feature_columns = list()\n",
    "\n",
    "    for c in df.columns:\n",
    "        n_missing = df[c].isnull().sum()\n",
    "        if n_missing > 0:\n",
    "            inference_columns.append([n_missing, c])\n",
    "        else:\n",
    "            feature_columns.append(c)\n",
    "    # sort by number of missing values\n",
    "    sorted(inference_columns, key=lambda x: x[0])\n",
    "\n",
    "    for n, c in inference_columns:    \n",
    "        # print(f\"{c}: {n} missing values\")\n",
    "        df[c] = _infer_columns(df, c, feature_columns)\n",
    "        feature_columns.append(c)\n",
    "\n",
    "    return df.fillna(0)\n",
    "\n",
    "def _infer_columns(df: pd.DataFrame, infer_col_name:str, feature_col_names:list) -> pd.DataFrame:\n",
    "    \"\"\"\n",
    "        Infer missing values in a column using columns in feature_col_names\n",
    "    \"\"\"\n",
    "    # dummy implementation - fill with most frequent value\n",
    "    infer_col = df[infer_col_name].copy(deep=True)\n",
    "    mode_val = infer_col.mode()\n",
    "    # print(mode_val[0])\n",
    "    if not( pd.isnull(mode_val[0]) or pd.isna(mode_val[0])):\n",
    "        fill_val = mode_val[0]\n",
    "    else:\n",
    "        fill_val = 0\n",
    "    infer_col = infer_col.fillna(fill_val)\n",
    "    \n",
    "    return infer_col\n"
   ]
  },
  {
   "cell_type": "code",
   "execution_count": 40,
   "metadata": {},
   "outputs": [],
   "source": [
    "def test_fill_dataframe():\n",
    "\n",
    "    for testfile in [\n",
    "        \"example_data/merged_data_cleaned.csv\",\n",
    "        \"example_data/glaciers/glaciers.csv\",\n",
    "        \"example_data/city_temperature.csv\"\n",
    "    ]:\n",
    "\n",
    "        df = pd.read_csv(testfile)\n",
    "        df = df.fillna(0)\n",
    "        df_filled = fill_dataframe(df)\n",
    "        assert df_filled.equals(df), \"fill_dataframe should not change a filled dataframe\"\n",
    "        assert df_filled.isnull().sum().sum() == 0, \"fill_dataframe should return a dataframe with no missing values\"\n",
    "\n",
    "        df = pd.read_csv(testfile)\n",
    "        print(f\"null-values before: {df.isnull().sum().sum()}\")\n",
    "        df_filled = fill_dataframe(df)\n",
    "        print(f\"null-values after: {df_filled.isnull().sum().sum()}\")\n",
    "        assert df_filled.isnull().sum().sum() == 0, f\"{testfile} : fill_dataframe should return a dataframe with no missing values\"\n"
   ]
  },
  {
   "cell_type": "code",
   "execution_count": 41,
   "metadata": {},
   "outputs": [
    {
     "name": "stdout",
     "output_type": "stream",
     "text": [
      "null-values before: 3990\n",
      "null-values after: 0\n",
      "null-values before: 1\n",
      "null-values after: 0\n"
     ]
    },
    {
     "name": "stderr",
     "output_type": "stream",
     "text": [
      "/tmp/ipykernel_5892/2989525400.py:9: DtypeWarning: Columns (2) have mixed types. Specify dtype option on import or set low_memory=False.\n",
      "  df = pd.read_csv(testfile)\n",
      "/tmp/ipykernel_5892/2989525400.py:15: DtypeWarning: Columns (2) have mixed types. Specify dtype option on import or set low_memory=False.\n",
      "  df = pd.read_csv(testfile)\n"
     ]
    },
    {
     "name": "stdout",
     "output_type": "stream",
     "text": [
      "null-values before: 1450990\n",
      "null-values after: 0\n"
     ]
    }
   ],
   "source": [
    "test_fill_dataframe()"
   ]
  },
  {
   "cell_type": "code",
   "execution_count": null,
   "metadata": {},
   "outputs": [],
   "source": []
  }
 ],
 "metadata": {
  "kernelspec": {
   "display_name": "Python 3.8.9 ('.venv': venv)",
   "language": "python",
   "name": "python3"
  },
  "language_info": {
   "codemirror_mode": {
    "name": "ipython",
    "version": 3
   },
   "file_extension": ".py",
   "mimetype": "text/x-python",
   "name": "python",
   "nbconvert_exporter": "python",
   "pygments_lexer": "ipython3",
   "version": "3.8.9"
  },
  "orig_nbformat": 4,
  "vscode": {
   "interpreter": {
    "hash": "f17434fc9a0020bf67ddfe0b78fe59540231cad9fc703b63b79e9913628fdfcb"
   }
  }
 },
 "nbformat": 4,
 "nbformat_minor": 2
}
